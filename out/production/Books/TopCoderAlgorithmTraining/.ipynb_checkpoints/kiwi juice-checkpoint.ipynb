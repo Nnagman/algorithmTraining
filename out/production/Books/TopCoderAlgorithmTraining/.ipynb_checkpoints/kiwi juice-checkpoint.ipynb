{
 "cells": [
  {
   "cell_type": "code",
   "execution_count": null,
   "metadata": {},
   "outputs": [],
   "source": [
    "\"\"\"\n",
    "    0부터 N-1이라 이름을 붙인 N개의 병에 키위 주스를 넣었습니다. 이때 i번째의 병의 용량은 capacities[i] 리터이며 타로가 i번째 병에\n",
    "    넣은 키위 주스의 양을 bottles[i] 리터라고 합니다. 키위 주스를 재분배하려고 하며, 0부터 M-1까지 M회 조작합니다. i번째의 조작은\n",
    "    타로가 병fromId[i]부터 병 toId[i]에 키위 주스를 넣는 것을 의미합니다. 병 fromId[i]가 비어 있거나 병toId[i]가 꽉 차 있는 순간,\n",
    "    타로는 더 이상 키위 주스를 넣지 않습니다.\n",
    "\"\"\""
   ]
  },
  {
   "cell_type": "code",
   "execution_count": 4,
   "metadata": {},
   "outputs": [],
   "source": [
    "def thePouring(capacities, bottles, fromId, toId):\n",
    "    \"\"\"n-1번째 병에서 n번째 병으로 물을 옮긴다.\"\"\"\n",
    "    for i in range(len(fromId)):\n",
    "        sum = bottles[fromId[i]] + bottles[toId[i]]\n",
    "        bottles[toId[i]] = min(sum, capacities[toId[i]])\n",
    "        bottles[fromId[i]] = sum - bottles[toId[i]];\n",
    "    \n",
    "    return bottles;"
   ]
  },
  {
   "cell_type": "code",
   "execution_count": 11,
   "metadata": {},
   "outputs": [
    {
     "name": "stdout",
     "output_type": "stream",
     "text": [
      "[10, 5, 3, 10]\n"
     ]
    }
   ],
   "source": [
    "capacities = [10,10,10,10]\n",
    "bottles = [10,10,5,3]\n",
    "fromId = [0,1,2]\n",
    "toId = [1,2,3]\n",
    "\n",
    "result = thePouring(capacities, bottles, fromId, toId)\n",
    "\n",
    "print(result)"
   ]
  },
  {
   "cell_type": "code",
   "execution_count": null,
   "metadata": {},
   "outputs": [],
   "source": []
  }
 ],
 "metadata": {
  "kernelspec": {
   "display_name": "Python 3",
   "language": "python",
   "name": "python3"
  },
  "language_info": {
   "codemirror_mode": {
    "name": "ipython",
    "version": 3
   },
   "file_extension": ".py",
   "mimetype": "text/x-python",
   "name": "python",
   "nbconvert_exporter": "python",
   "pygments_lexer": "ipython3",
   "version": "3.7.4"
  }
 },
 "nbformat": 4,
 "nbformat_minor": 2
}
