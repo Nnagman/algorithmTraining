{
 "cells": [
  {
   "cell_type": "code",
   "execution_count": 1,
   "metadata": {},
   "outputs": [
    {
     "data": {
      "text/plain": [
       "'\\n     전체탐색\\n     화이트씨의 친구는 2가지 주제에만 관심이 있고 다른 주제로 이야기하는 것을 싫어합니다. 그래서 친구 모두가 공통의 흥미를 가져야지\\n     즐거운 파티가 될 수 있습니다. 문자열 배열 first, second가 주어집니다. 화이트씨의 i번째 친구가 흥미 있는 화제가 first[i]와\\n     second[i]입니다. 즐거운 파티를 위해 화이트씨가 초대할 수 있는 친구는 최대 몇 명인지 리턴하세요.\\n'"
      ]
     },
     "execution_count": 1,
     "metadata": {},
     "output_type": "execute_result"
    }
   ],
   "source": [
    "\"\"\"\n",
    "     전체탐색\n",
    "     화이트씨의 친구는 2가지 주제에만 관심이 있고 다른 주제로 이야기하는 것을 싫어합니다. 그래서 친구 모두가 공통의 흥미를 가져야지\n",
    "     즐거운 파티가 될 수 있습니다. 문자열 배열 first, second가 주어집니다. 화이트씨의 i번째 친구가 흥미 있는 화제가 first[i]와\n",
    "     second[i]입니다. 즐거운 파티를 위해 화이트씨가 초대할 수 있는 친구는 최대 몇 명인지 리턴하세요.\n",
    "\"\"\""
   ]
  },
  {
   "cell_type": "code",
   "execution_count": 3,
   "metadata": {},
   "outputs": [],
   "source": [
    "def bestInvitation(first, second):\n",
    "    \"\"\" first[i]와 second[i]는 중복된 값을 가질 수 없다. \"\"\"\n",
    "    numOfInvitees = 0\n",
    "    \n",
    "    \"\"\" first와 second가 list가 아니라면 0을 반환한다. \"\"\"\n",
    "    if( type(first) == list and type(second) == list):\n",
    "        for idx in range(len(first)):\n",
    "            numOfInvitees = max(numOfInvitees,first.count(first[idx]))\n",
    "            numOfInvitees = max(numOfInvitees,second.count(second[idx]))\n",
    "                \n",
    "    return numOfInvitees"
   ]
  },
  {
   "cell_type": "code",
   "execution_count": 5,
   "metadata": {},
   "outputs": [
    {
     "data": {
      "text/plain": [
       "4"
      ]
     },
     "execution_count": 5,
     "metadata": {},
     "output_type": "execute_result"
    }
   ],
   "source": [
    "first = [0,1,2,3,4,5]\n",
    "second = [0,0,0,0,1,2]\n",
    "\n",
    "bestInvitation(first, second)"
   ]
  },
  {
   "cell_type": "code",
   "execution_count": null,
   "metadata": {},
   "outputs": [],
   "source": []
  }
 ],
 "metadata": {
  "kernelspec": {
   "display_name": "Python 3",
   "language": "python",
   "name": "python3"
  },
  "language_info": {
   "codemirror_mode": {
    "name": "ipython",
    "version": 3
   },
   "file_extension": ".py",
   "mimetype": "text/x-python",
   "name": "python",
   "nbconvert_exporter": "python",
   "pygments_lexer": "ipython3",
   "version": "3.7.4"
  }
 },
 "nbformat": 4,
 "nbformat_minor": 2
}
