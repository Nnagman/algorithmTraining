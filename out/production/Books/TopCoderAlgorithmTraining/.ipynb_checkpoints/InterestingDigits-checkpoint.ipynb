{
 "cells": [
  {
   "cell_type": "code",
   "execution_count": null,
   "metadata": {},
   "outputs": [],
   "source": [
    "\"\"\"\n",
    "    base 진법이 주어졌을 때 n의 배수 각 자릿수의 합이 다른 n의 배수가 되는 성질을 가진 수를 오름차 순으로 모두 리턴하세요\n",
    "    (다만 0과 1은 제외합니다). 어떤 수가 이러한 성질을 가지는지 알고자 모든 숫자의 곱을 고려할 필요는 없습니다. 만약 4자리\n",
    "    미만의 곱으로 성립되면 더 큰 자리에서도 성립된다 할 수 있습니다. 예를 들어 10진수 에서는 999보다 큰 숫자를 고려하지\n",
    "    않아도 됩니다.\n",
    "\"\"\""
   ]
  },
  {
   "cell_type": "code",
   "execution_count": 46,
   "metadata": {},
   "outputs": [],
   "source": [
    "def digits(base):\n",
    "    \"\"\" n의 진법일때 n-1의 제곱근을 찾고 해당 제곱근의 제곱근을 찾는 작업을 반복하면 원하는 성질의 수를 모두 찾을 수 있다.\"\"\"\n",
    "    \"\"\" base가 int이면서 2보다 크고 31보다 작지 않다면 0을 반환한다. \"\"\"\n",
    "\n",
    "    if type(base) == int and base > 2 and base < 31:\n",
    "        numbers = [base-1]\n",
    "        number = base-1\n",
    "        squareRoot = int(number ** 0.5)\n",
    "        \n",
    "        while True:\n",
    "            if squareRoot * squareRoot == number:\n",
    "                number = squareRoot\n",
    "                numbers.append(number)\n",
    "            else:\n",
    "                break\n",
    "                \n",
    "        return numbers\n",
    "    else:\n",
    "        return 0"
   ]
  },
  {
   "cell_type": "code",
   "execution_count": 48,
   "metadata": {},
   "outputs": [
    {
     "data": {
      "text/plain": [
       "[8]"
      ]
     },
     "execution_count": 48,
     "metadata": {},
     "output_type": "execute_result"
    }
   ],
   "source": [
    "digits(9)"
   ]
  },
  {
   "cell_type": "code",
   "execution_count": null,
   "metadata": {},
   "outputs": [],
   "source": []
  }
 ],
 "metadata": {
  "kernelspec": {
   "display_name": "Python 3",
   "language": "python",
   "name": "python3"
  },
  "language_info": {
   "codemirror_mode": {
    "name": "ipython",
    "version": 3
   },
   "file_extension": ".py",
   "mimetype": "text/x-python",
   "name": "python",
   "nbconvert_exporter": "python",
   "pygments_lexer": "ipython3",
   "version": "3.7.4"
  }
 },
 "nbformat": 4,
 "nbformat_minor": 2
}
