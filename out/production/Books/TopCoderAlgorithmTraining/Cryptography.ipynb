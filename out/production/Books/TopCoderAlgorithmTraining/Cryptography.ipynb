{
 "cells": [
  {
   "cell_type": "code",
   "execution_count": null,
   "metadata": {},
   "outputs": [],
   "source": [
    "\"\"\"\n",
    "    전체탐색\n",
    "    여러분은 입력 리스트에서 1개의 값을 선택하고 값을 1 증가시킵니다. 이때 리스트 내부의 모든 숫자 곱이 가장 커져야 합니다.\n",
    "    int[] numbers 형태로 숫자 배열이 주어질 때 곱의 최댓값을 리턴하세요. 리턴값니 2의62승을 넘는 문제는 나오지 않을 것을\n",
    "    보장합니다.\n",
    "\"\"\""
   ]
  },
  {
   "cell_type": "code",
   "execution_count": 1,
   "metadata": {},
   "outputs": [],
   "source": [
    "import numpy\n",
    "\n",
    "def encrypt(numbers):\n",
    "    \"\"\" 리스트 내부의 최소값을 증가시키면 모든 수의 곱이 가장 커진다. \"\"\"\n",
    "    \"\"\" numbers가 list가 아니라면 0을 반환한다. \"\"\"\n",
    "    if(type(numbers) == list):\n",
    "        minNum = min(numbers)\n",
    "        idx = numbers.index(minNum)\n",
    "        numbers[idx] = numbers[idx] + 1\n",
    "        return numpy.prod(numbers)\n",
    "    else:\n",
    "        return 0"
   ]
  },
  {
   "cell_type": "code",
   "execution_count": 5,
   "metadata": {},
   "outputs": [
    {
     "data": {
      "text/plain": [
       "72"
      ]
     },
     "execution_count": 5,
     "metadata": {},
     "output_type": "execute_result"
    }
   ],
   "source": [
    "numbers = [2,3,2,1,1,3]\n",
    "\n",
    "encrypt(numbers)"
   ]
  },
  {
   "cell_type": "code",
   "execution_count": null,
   "metadata": {},
   "outputs": [],
   "source": []
  }
 ],
 "metadata": {
  "kernelspec": {
   "display_name": "Python 3",
   "language": "python",
   "name": "python3"
  },
  "language_info": {
   "codemirror_mode": {
    "name": "ipython",
    "version": 3
   },
   "file_extension": ".py",
   "mimetype": "text/x-python",
   "name": "python",
   "nbconvert_exporter": "python",
   "pygments_lexer": "ipython3",
   "version": "3.7.4"
  }
 },
 "nbformat": 4,
 "nbformat_minor": 2
}
