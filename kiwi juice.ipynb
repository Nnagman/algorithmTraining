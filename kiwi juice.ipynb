{
 "cells": [
  {
   "cell_type": "code",
   "execution_count": 4,
   "metadata": {},
   "outputs": [],
   "source": [
    "def thePouring(capacities, bottles, fromId, toId):\n",
    "    \"\"\"n-1번째 병에서 n번째 병으로 물을 옮긴다.\"\"\"\n",
    "    for i in range(len(fromId)):\n",
    "        sum = bottles[fromId[i]] + bottles[toId[i]]\n",
    "        bottles[toId[i]] = min(sum, capacities[toId[i]])\n",
    "        bottles[fromId[i]] = sum - bottles[toId[i]];\n",
    "    \n",
    "    return bottles;"
   ]
  },
  {
   "cell_type": "code",
   "execution_count": 11,
   "metadata": {},
   "outputs": [
    {
     "name": "stdout",
     "output_type": "stream",
     "text": [
      "[10, 5, 3, 10]\n"
     ]
    }
   ],
   "source": [
    "capacities = [10,10,10,10]\n",
    "bottles = [10,10,5,3]\n",
    "fromId = [0,1,2]\n",
    "toId = [1,2,3]\n",
    "\n",
    "result = thePouring(capacities, bottles, fromId, toId)\n",
    "\n",
    "print(result)"
   ]
  },
  {
   "cell_type": "code",
   "execution_count": null,
   "metadata": {},
   "outputs": [],
   "source": []
  }
 ],
 "metadata": {
  "kernelspec": {
   "display_name": "Python 3",
   "language": "python",
   "name": "python3"
  },
  "language_info": {
   "codemirror_mode": {
    "name": "ipython",
    "version": 3
   },
   "file_extension": ".py",
   "mimetype": "text/x-python",
   "name": "python",
   "nbconvert_exporter": "python",
   "pygments_lexer": "ipython3",
   "version": "3.7.4"
  }
 },
 "nbformat": 4,
 "nbformat_minor": 2
}
